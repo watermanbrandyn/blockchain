{
 "cells": [
  {
   "cell_type": "markdown",
   "id": "ae5a8eda",
   "metadata": {},
   "source": [
    "This is a self-typed recreation of the work of Michael Chrupcala:\n",
    "- URL: https://medium.com/coinmonks/python-tutorial-build-a-blockchain-713c706f6531\n",
    "- github: https://github.com/mchrupcala/blockchain-walkthrough\n",
    "\n",
    "He has placed these materials under the following MIT License:\n",
    "\n",
    "MIT License\n",
    "\n",
    "Copyright (c) 2020 Michael\n",
    "\n",
    "Permission is hereby granted, free of charge, to any person obtaining a copy\n",
    "of this software and associated documentation files (the \"Software\"), to deal\n",
    "in the Software without restriction, including without limitation the rights\n",
    "to use, copy, modify, merge, publish, distribute, sublicense, and/or sell\n",
    "copies of the Software, and to permit persons to whom the Software is\n",
    "furnished to do so, subject to the following conditions:\n",
    "\n",
    "The above copyright notice and this permission notice shall be included in all\n",
    "copies or substantial portions of the Software.\n",
    "\n",
    "THE SOFTWARE IS PROVIDED \"AS IS\", WITHOUT WARRANTY OF ANY KIND, EXPRESS OR\n",
    "IMPLIED, INCLUDING BUT NOT LIMITED TO THE WARRANTIES OF MERCHANTABILITY,\n",
    "FITNESS FOR A PARTICULAR PURPOSE AND NONINFRINGEMENT. IN NO EVENT SHALL THE\n",
    "AUTHORS OR COPYRIGHT HOLDERS BE LIABLE FOR ANY CLAIM, DAMAGES OR OTHER\n",
    "LIABILITY, WHETHER IN AN ACTION OF CONTRACT, TORT OR OTHERWISE, ARISING FROM,\n",
    "OUT OF OR IN CONNECTION WITH THE SOFTWARE OR THE USE OR OTHER DEALINGS IN THE\n",
    "SOFTWARE."
   ]
  },
  {
   "cell_type": "code",
   "execution_count": 1,
   "id": "d0f63053",
   "metadata": {},
   "outputs": [],
   "source": [
    "# For encryption\n",
    "import hashlib\n",
    "\n",
    "# formatting of blocks\n",
    "import json\n",
    "\n",
    "# time for each block's timestamp\n",
    "from time import time"
   ]
  },
  {
   "cell_type": "code",
   "execution_count": 2,
   "id": "bc66545b",
   "metadata": {},
   "outputs": [],
   "source": [
    "# Creating of Blockchain class and variables\n",
    "class Blockchain(object):\n",
    "    def __init__(self):\n",
    "        # Empty list that we'll add blocks to, our 'block-chain'\n",
    "        self.chain = []\n",
    "        # Transactions sit in this array until approved and added to new block\n",
    "        self.pending_transactions = []\n",
    "        # Method that will be defined, used to add each block to the chain. Example is Satoshi message\n",
    "        self.new_block(previous_hash=\"The times 03/Jan/2009 Chancellor on brink of second bailout for bank.\", proof=100)"
   ]
  },
  {
   "cell_type": "code",
   "execution_count": 3,
   "id": "c8f4ea53",
   "metadata": {},
   "outputs": [],
   "source": [
    "# Function to build new blocks\n",
    "def new_block(self, proof, previous_hash=None):\n",
    "    # Creation of JSON object with listed properties\n",
    "    block = {\n",
    "        # Index: takes length of blockchain and adds 1 to it, used to reference individual block (genesis block = 1)\n",
    "        'index': len(self.chain) + 1,\n",
    "        # using time() import, stamps block when created, ability to check when transaction confirmed on-chain\n",
    "        'timestamp': time(),\n",
    "        # Any 'pending' tranactions to be included in block\n",
    "        'transactions': self.pending_transactions,\n",
    "        # Comes from miner, who believes they found 'nonce' or 'proof'\n",
    "        'proof': proof,\n",
    "        # Hashed version of most recent approved block\n",
    "        'previous_hash': previous_hash or self.hash(self.chain[-1]),\n",
    "    }\n",
    "    # \"Empty\" the 'pending' list of transactions (they were previously added)\n",
    "    self.pending_transactions = []\n",
    "    # Add new block to self.chain and return it\n",
    "    self.chain.append(block)\n",
    "    \n",
    "    return block"
   ]
  },
  {
   "cell_type": "code",
   "execution_count": 4,
   "id": "adfe8f89",
   "metadata": {},
   "outputs": [],
   "source": [
    "# Functions to create new transactions and get the last block\n",
    "@property\n",
    "# Call chain in order to receive the block that was added most recently\n",
    "def last_block(self):\n",
    "    \n",
    "    return self.chain[-1]\n",
    "\n",
    "# Simplified transaction interaction\n",
    "def new_transaction(self, sender, recipient, amount):\n",
    "    # JSON object\n",
    "    transaction = {\n",
    "        'sender': sender,\n",
    "        'recipient': recipient,\n",
    "        'amount': amount\n",
    "    }\n",
    "    # Adding JSON object 'transaction' to pool of pending_transactions\n",
    "    self.pending_transactions.append(transaction)\n",
    "    # return index of block which new transaction is going to be added to\n",
    "    return self.last_block['index'] + 1"
   ]
  },
  {
   "cell_type": "code",
   "execution_count": 5,
   "id": "1d78ef23",
   "metadata": {},
   "outputs": [],
   "source": [
    "# Create function to hash blocks\n",
    "def hash(self, block):\n",
    "    # Takes new block and changes key/value pairs all into strings\n",
    "    string_object = json.dumps(block, sort_keys=True)\n",
    "    # Turns above string into Unicode, to be passed to sha256 hashing\n",
    "    block_string = string_object.encode()\n",
    "    \n",
    "    # Use of sha256 to create 64 character encrypted string\n",
    "    raw_hash = hashlib.sha256(block_string)\n",
    "    # Turn hash string to hexidecimal string\n",
    "    hex_hash = raw_hash.hexdigest()\n",
    "    \n",
    "    # return our hexidecimal hash\n",
    "    return hex_hash"
   ]
  },
  {
   "cell_type": "code",
   "execution_count": 6,
   "id": "8d5e22e7",
   "metadata": {},
   "outputs": [
    {
     "ename": "AttributeError",
     "evalue": "'Blockchain' object has no attribute 'new_block'",
     "output_type": "error",
     "traceback": [
      "\u001b[0;31m---------------------------------------------------------------------------\u001b[0m",
      "\u001b[0;31mAttributeError\u001b[0m                            Traceback (most recent call last)",
      "\u001b[0;32m/var/folders/pt/3m3r1rq55pdgzpmnqzkdjb240000gn/T/ipykernel_18035/2763886066.py\u001b[0m in \u001b[0;36m<module>\u001b[0;34m\u001b[0m\n\u001b[1;32m      1\u001b[0m \u001b[0;31m# Creation of new blockchain & 'send money'\u001b[0m\u001b[0;34m\u001b[0m\u001b[0;34m\u001b[0m\u001b[0m\n\u001b[1;32m      2\u001b[0m \u001b[0;31m# Initialize instance of our blockchain class\u001b[0m\u001b[0;34m\u001b[0m\u001b[0;34m\u001b[0m\u001b[0m\n\u001b[0;32m----> 3\u001b[0;31m \u001b[0mblockchain\u001b[0m \u001b[0;34m=\u001b[0m \u001b[0mBlockchain\u001b[0m\u001b[0;34m(\u001b[0m\u001b[0;34m)\u001b[0m\u001b[0;34m\u001b[0m\u001b[0;34m\u001b[0m\u001b[0m\n\u001b[0m\u001b[1;32m      4\u001b[0m \u001b[0mt1\u001b[0m \u001b[0;34m=\u001b[0m \u001b[0mblockchain\u001b[0m\u001b[0;34m.\u001b[0m\u001b[0mnew_transaction\u001b[0m\u001b[0;34m(\u001b[0m\u001b[0;34m\"Satoshi\"\u001b[0m\u001b[0;34m,\u001b[0m \u001b[0;34m\"Mike\"\u001b[0m\u001b[0;34m,\u001b[0m \u001b[0;34m'5 BTC'\u001b[0m\u001b[0;34m)\u001b[0m\u001b[0;34m\u001b[0m\u001b[0;34m\u001b[0m\u001b[0m\n\u001b[1;32m      5\u001b[0m \u001b[0mt2\u001b[0m \u001b[0;34m=\u001b[0m \u001b[0mblockchain\u001b[0m\u001b[0;34m.\u001b[0m\u001b[0mnew_transaction\u001b[0m\u001b[0;34m(\u001b[0m\u001b[0;34m\"Mike\"\u001b[0m\u001b[0;34m,\u001b[0m \u001b[0;34m\"Satoshi\"\u001b[0m\u001b[0;34m,\u001b[0m \u001b[0;34m'1 BTC'\u001b[0m\u001b[0;34m)\u001b[0m\u001b[0;34m\u001b[0m\u001b[0;34m\u001b[0m\u001b[0m\n",
      "\u001b[0;32m/var/folders/pt/3m3r1rq55pdgzpmnqzkdjb240000gn/T/ipykernel_18035/3693630196.py\u001b[0m in \u001b[0;36m__init__\u001b[0;34m(self)\u001b[0m\n\u001b[1;32m      7\u001b[0m         \u001b[0mself\u001b[0m\u001b[0;34m.\u001b[0m\u001b[0mpending_transactions\u001b[0m \u001b[0;34m=\u001b[0m \u001b[0;34m[\u001b[0m\u001b[0;34m]\u001b[0m\u001b[0;34m\u001b[0m\u001b[0;34m\u001b[0m\u001b[0m\n\u001b[1;32m      8\u001b[0m         \u001b[0;31m# Method that will be defined, used to add each block to the chain. Example is Satoshi message\u001b[0m\u001b[0;34m\u001b[0m\u001b[0;34m\u001b[0m\u001b[0m\n\u001b[0;32m----> 9\u001b[0;31m         \u001b[0mself\u001b[0m\u001b[0;34m.\u001b[0m\u001b[0mnew_block\u001b[0m\u001b[0;34m(\u001b[0m\u001b[0mprevious_hash\u001b[0m\u001b[0;34m=\u001b[0m\u001b[0;34m\"The times 03/Jan/2009 Chancellor on brink of second bailout for bank.\"\u001b[0m\u001b[0;34m,\u001b[0m \u001b[0mproof\u001b[0m\u001b[0;34m=\u001b[0m\u001b[0;36m100\u001b[0m\u001b[0;34m)\u001b[0m\u001b[0;34m\u001b[0m\u001b[0;34m\u001b[0m\u001b[0m\n\u001b[0m",
      "\u001b[0;31mAttributeError\u001b[0m: 'Blockchain' object has no attribute 'new_block'"
     ]
    }
   ],
   "source": [
    "# Creation of new blockchain & 'send money'\n",
    "# Initialize instance of our blockchain class\n",
    "blockchain = Blockchain()\n",
    "t1 = blockchain.new_transaction(\"Satoshi\", \"Mike\", '5 BTC')\n",
    "t2 = blockchain.new_transaction(\"Mike\", \"Satoshi\", '1 BTC')\n",
    "t3 = blockchain.new_transaction(\"Satoshi\", \"Hal Finney\", '5 BTC')\n",
    "blockchain.new_block(12345)\n",
    "\n",
    "t4 = blockchain.new_transaction(\"Mike\", \"Alice\", '1 BTC')\n",
    "t5 = blockchain.new_transaction(\"Alice\", \"Bob\", '0.5 BTC')\n",
    "t6 = blockchain.new_transaction(\"Bob\", \"Mike\", '0.5 BTC')\n",
    "blockchain.new_block(6789)"
   ]
  },
  {
   "cell_type": "code",
   "execution_count": null,
   "id": "1c5c8718",
   "metadata": {},
   "outputs": [],
   "source": []
  },
  {
   "cell_type": "code",
   "execution_count": null,
   "id": "df306efb",
   "metadata": {},
   "outputs": [],
   "source": []
  }
 ],
 "metadata": {
  "kernelspec": {
   "display_name": "Python 3.9.7 64-bit ('base': conda)",
   "language": "python",
   "name": "python397jvsc74a57bd038cca0c38332a56087b24af0bc80247f4fced29cb4f7f437d91dc159adec9c4e"
  },
  "language_info": {
   "codemirror_mode": {
    "name": "ipython",
    "version": 3
   },
   "file_extension": ".py",
   "mimetype": "text/x-python",
   "name": "python",
   "nbconvert_exporter": "python",
   "pygments_lexer": "ipython3",
   "version": "3.9.7"
  }
 },
 "nbformat": 4,
 "nbformat_minor": 5
}
